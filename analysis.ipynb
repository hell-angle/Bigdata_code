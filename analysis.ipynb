{
 "cells": [
  {
   "cell_type": "code",
   "execution_count": 12,
   "metadata": {},
   "outputs": [],
   "source": [
    "import pandas as pd\n",
    "from sklearn.metrics import confusion_matrix"
   ]
  },
  {
   "cell_type": "code",
   "execution_count": 13,
   "metadata": {},
   "outputs": [],
   "source": [
    "def calculate_recall(y_true, y_pred):\n",
    "    tn, fp, fn, tp = confusion_matrix(y_true, y_pred).ravel()\n",
    "    recall = tp / (tp + fn)\n",
    "    return recall\n",
    "\n",
    "def calculate_f1_score(y_true, y_pred):\n",
    "    tn, fp, fn, tp = confusion_matrix(y_true, y_pred).ravel()\n",
    "    precision = tp / (tp + fp)\n",
    "    recall = tp / (tp + fn)\n",
    "    f1_score = 2 * (precision * recall) / (precision + recall)\n",
    "    return f1_score\n",
    "\n",
    "def calculate_precision(y_true, y_pred):\n",
    "    tn, fp, fn, tp = confusion_matrix(y_true, y_pred).ravel()\n",
    "    precision = tp / (tp + fp)\n",
    "    return precision\n",
    "\n",
    "def calculate_accuracy(y_true, y_pred):\n",
    "    tn, fp, fn, tp = confusion_matrix(y_true, y_pred).ravel()\n",
    "    accuracy = (tp + tn) / (tp + tn + fp + fn)\n",
    "    return accuracy"
   ]
  },
  {
   "cell_type": "code",
   "execution_count": 14,
   "metadata": {},
   "outputs": [],
   "source": [
    "# Load the dataset\n",
    "data = pd.read_csv('D:\\\\Big_data\\\\New folder\\\\Analysis2.csv')"
   ]
  },
  {
   "cell_type": "code",
   "execution_count": 15,
   "metadata": {},
   "outputs": [],
   "source": [
    "# Extract the true labels and predicted labels for the respective columns\n",
    "y_true = data['isFraud']\n",
    "y_pred_rdisfraud = data['RDisFraud']\n",
    "y_pred_lrdisfraud = data['LRisFraud']\n",
    "y_pred_dtisfraud = data['DTisFraud']"
   ]
  },
  {
   "cell_type": "code",
   "execution_count": 16,
   "metadata": {},
   "outputs": [],
   "source": [
    "# Calculate metrics for RDisFraud column\n",
    "recall_rdisfraud = calculate_recall(y_true, y_pred_rdisfraud)\n",
    "precision_rdisfraud = calculate_precision(y_true, y_pred_rdisfraud)\n",
    "f1_score_rdisfraud = calculate_f1_score(y_true, y_pred_rdisfraud)\n",
    "accuracy_rdisfraud = calculate_accuracy(y_true, y_pred_rdisfraud)\n",
    "\n",
    "# Calculate metrics for LRisFraud column\n",
    "recall_lrdisfraud = calculate_recall(y_true, y_pred_lrdisfraud)\n",
    "precision_lrdisfraud = calculate_precision(y_true, y_pred_lrdisfraud)\n",
    "f1_score_lrdisfraud = calculate_f1_score(y_true, y_pred_lrdisfraud)\n",
    "accuracy_lrdisfraud = calculate_accuracy(y_true, y_pred_lrdisfraud)\n",
    "\n",
    "# Calculate metrics for DTisFraud column\n",
    "recall_dtisfraud = calculate_recall(y_true, y_pred_dtisfraud)\n",
    "precision_dtisfraud = calculate_precision(y_true, y_pred_dtisfraud)\n",
    "f1_score_dtisfraud = calculate_f1_score(y_true, y_pred_dtisfraud)\n",
    "accuracy_dtisfraud = calculate_accuracy(y_true, y_pred_dtisfraud)"
   ]
  },
  {
   "cell_type": "code",
   "execution_count": 17,
   "metadata": {},
   "outputs": [
    {
     "name": "stdout",
     "output_type": "stream",
     "text": [
      "Metrics for RDisFraud:\n",
      "Recall: 0.6462\n",
      "F1 Score: 0.7706\n",
      "Precision: 0.9545\n",
      "Accuracy: 0.9996\n",
      "\n"
     ]
    }
   ],
   "source": [
    "# Print the results\n",
    "print(\"Metrics for RDisFraud:\")\n",
    "print(f\"Recall: {recall_rdisfraud:.4f}\")\n",
    "print(f\"F1 Score: {f1_score_rdisfraud:.4f}\")\n",
    "print(f\"Precision: {precision_rdisfraud:.4f}\")\n",
    "print(f\"Accuracy: {accuracy_rdisfraud:.4f}\")\n",
    "print()"
   ]
  },
  {
   "cell_type": "code",
   "execution_count": 18,
   "metadata": {},
   "outputs": [
    {
     "name": "stdout",
     "output_type": "stream",
     "text": [
      "Metrics for LRisFraud:\n",
      "Recall: 0.0154\n",
      "F1 Score: 0.0238\n",
      "Precision: 0.0526\n",
      "Accuracy: 0.9987\n",
      "\n"
     ]
    }
   ],
   "source": [
    "print(\"Metrics for LRisFraud:\")\n",
    "print(f\"Recall: {recall_lrdisfraud:.4f}\")\n",
    "print(f\"F1 Score: {f1_score_lrdisfraud:.4f}\")\n",
    "print(f\"Precision: {precision_lrdisfraud:.4f}\")\n",
    "print(f\"Accuracy: {accuracy_lrdisfraud:.4f}\")\n",
    "print()"
   ]
  },
  {
   "cell_type": "code",
   "execution_count": 19,
   "metadata": {},
   "outputs": [
    {
     "name": "stdout",
     "output_type": "stream",
     "text": [
      "Metrics for DTisFraud:\n",
      "Recall: 0.0923\n",
      "F1 Score: 0.1429\n",
      "Precision: 0.3158\n",
      "Accuracy: 0.9989\n",
      "\n"
     ]
    }
   ],
   "source": [
    "print(\"Metrics for DTisFraud:\")\n",
    "print(f\"Recall: {recall_dtisfraud:.4f}\")\n",
    "print(f\"F1 Score: {f1_score_dtisfraud:.4f}\")\n",
    "print(f\"Precision: {precision_dtisfraud:.4f}\")\n",
    "print(f\"Accuracy: {accuracy_dtisfraud:.4f}\")\n",
    "print()"
   ]
  }
 ],
 "metadata": {
  "kernelspec": {
   "display_name": "base",
   "language": "python",
   "name": "python3"
  },
  "language_info": {
   "codemirror_mode": {
    "name": "ipython",
    "version": 3
   },
   "file_extension": ".py",
   "mimetype": "text/x-python",
   "name": "python",
   "nbconvert_exporter": "python",
   "pygments_lexer": "ipython3",
   "version": "3.11.3"
  },
  "orig_nbformat": 4
 },
 "nbformat": 4,
 "nbformat_minor": 2
}
